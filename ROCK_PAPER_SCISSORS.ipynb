{
 "cells": [
  {
   "cell_type": "code",
   "execution_count": 7,
   "id": "53a98992-e4ff-4445-89f7-566d2fa5cfef",
   "metadata": {},
   "outputs": [
    {
     "name": "stdin",
     "output_type": "stream",
     "text": [
      "Enter (Rock/Paper/Scissors): rock\n"
     ]
    },
    {
     "name": "stdout",
     "output_type": "stream",
     "text": [
      "\n",
      "\n",
      " YOU          COMPUTER\n",
      "rock            paper\n",
      "paper eats rock!! you LOST\n"
     ]
    }
   ],
   "source": [
    "import random as r\n",
    "\n",
    "a1=input('Enter (Rock/Paper/Scissors):')\n",
    "a=[]\n",
    "m1=['rock','paper','scissors']\n",
    "k=r.randint(0,2)\n",
    "b=m1[k]\n",
    "# if ((a1=='Rock' or a1=='rock')and b=='Rock'):\n",
    "    # print('Tie')\n",
    "\n",
    "\n",
    "# y=\n",
    "# c=\n",
    "print('\\n\\n','YOU'.ljust(10),'COMPUTER'.rjust(10))\n",
    "print(a1.ljust(10),b.rjust(10))\n",
    "\n",
    "\n",
    "if (a1.lower()==b.lower()):\n",
    "    print('Tie') \n",
    "elif(a1.lower()==m1[0] and b.lower()==m1[1]):\n",
    "    print('paper eats rock!! you LOST')\n",
    "elif(a1.lower()==m1[1] and b.lower()==m1[2]):\n",
    "    print('scissors cuts paper!! you LOST')\n",
    "elif(a1.lower()==m1[2] and b.lower()==m1[0]):\n",
    "    print('rock breaks scissors!! you LOST')\n",
    "    \n",
    "elif(b.lower()==m1[0] and a1.lower()==m1[1]):\n",
    "    print('paper eats rock!! you WON')\n",
    "elif(b.lower()==m1[1] and a1.lower()==m1[2]):\n",
    "    print('scissors cuts paper!! you WON')\n",
    "elif(b.lower()==m1[2] and a1.lower()==m1[0]):\n",
    "    print('rock breaks scissors!! you WON')\n"
   ]
  },
  {
   "cell_type": "code",
   "execution_count": 13,
   "id": "63e056ef-1458-49da-8af3-41b5f6f80426",
   "metadata": {},
   "outputs": [
    {
     "data": {
      "text/plain": [
       "'scissors'"
      ]
     },
     "execution_count": 13,
     "metadata": {},
     "output_type": "execute_result"
    }
   ],
   "source": [
    "m1[2]"
   ]
  },
  {
   "cell_type": "code",
   "execution_count": null,
   "id": "a696dfb5-f62d-406b-a66a-d075d69c8672",
   "metadata": {},
   "outputs": [],
   "source": []
  },
  {
   "cell_type": "code",
   "execution_count": 8,
   "id": "fedfb234-8907-4c06-99d3-941b0cb94a5e",
   "metadata": {},
   "outputs": [
    {
     "name": "stdin",
     "output_type": "stream",
     "text": [
      "Enter (Rock/Paper/Scissors): rock\n"
     ]
    },
    {
     "name": "stdout",
     "output_type": "stream",
     "text": [
      "\n",
      "\n",
      " YOU          COMPUTER\n",
      "rock         scissors\n",
      "rock breaks scissors!! you WON\n",
      "Both pts are = 1 0\n"
     ]
    }
   ],
   "source": [
    "import random as r\n",
    "\n",
    "pcpts=0\n",
    "mypts=0\n",
    "\n",
    "\n",
    "a1=input('Enter (Rock/Paper/Scissors):')\n",
    "a=[]\n",
    "m1=['rock','paper','scissors']\n",
    "k=r.randint(0,2)\n",
    "b=m1[k]\n",
    "# if ((a1=='Rock' or a1=='rock')and b=='Rock'):\n",
    "    # print('Tie')\n",
    "\n",
    "\n",
    "pcpts=0\n",
    "mypts=0\n",
    "\n",
    "print('\\n\\n','YOU'.ljust(10),'COMPUTER'.rjust(10))\n",
    "print(a1.ljust(10),b.rjust(10))\n",
    "\n",
    "\n",
    "if (a1.lower()==b.lower()):\n",
    "    print('Tie') \n",
    "elif(a1.lower()==m1[0] and b.lower()==m1[1]):\n",
    "    pcpts+=1\n",
    "    print('paper eats rock!! you LOST')\n",
    "elif(a1.lower()==m1[1] and b.lower()==m1[2]):\n",
    "    pcpts+=1\n",
    "    print('scissors cuts paper!! you LOST')\n",
    "elif(a1.lower()==m1[2] and b.lower()==m1[0]):\n",
    "    pcpts+=1\n",
    "    print('rock breaks scissors!! you LOST')\n",
    "    \n",
    "elif(b.lower()==m1[0] and a1.lower()==m1[1]):\n",
    "    mypts+=1\n",
    "    print('paper eats rock!! you WON')\n",
    "elif(b.lower()==m1[1] and a1.lower()==m1[2]):\n",
    "    mypts+=1\n",
    "    print('scissors cuts paper!! you WON')\n",
    "elif(b.lower()==m1[2] and a1.lower()==m1[0]):\n",
    "    mypts+=1\n",
    "    print('rock breaks scissors!! you WON')\n",
    "\n",
    "    \n",
    "print('Both pts are =',mypts,pcpts)"
   ]
  },
  {
   "cell_type": "code",
   "execution_count": null,
   "id": "6581f9ad-42d3-4887-974c-91ecd73360cc",
   "metadata": {},
   "outputs": [],
   "source": []
  },
  {
   "cell_type": "code",
   "execution_count": null,
   "id": "5e0484af-fb21-47af-ab2f-462b32cb0ee7",
   "metadata": {},
   "outputs": [],
   "source": []
  },
  {
   "cell_type": "code",
   "execution_count": null,
   "id": "c45b9450-573b-42c3-8e7d-a073ffac68e8",
   "metadata": {},
   "outputs": [],
   "source": []
  },
  {
   "cell_type": "code",
   "execution_count": null,
   "id": "3b06b7d1-1afa-46bf-b075-adb1aaa5a597",
   "metadata": {},
   "outputs": [],
   "source": []
  },
  {
   "cell_type": "code",
   "execution_count": 11,
   "id": "81151fb8-4639-4504-9e3f-3a0f0872099a",
   "metadata": {},
   "outputs": [
    {
     "name": "stdin",
     "output_type": "stream",
     "text": [
      "Enter (Rock/Paper/Scissors): rock\n"
     ]
    },
    {
     "name": "stdout",
     "output_type": "stream",
     "text": [
      "\n",
      "\n",
      " YOU          COMPUTER\n",
      "rock             rock\n"
     ]
    },
    {
     "name": "stdin",
     "output_type": "stream",
     "text": [
      "Enter (Rock/Paper/Scissors): rock\n"
     ]
    },
    {
     "name": "stdout",
     "output_type": "stream",
     "text": [
      "\n",
      "\n",
      " YOU          COMPUTER\n",
      "rock         scissors\n"
     ]
    },
    {
     "name": "stdin",
     "output_type": "stream",
     "text": [
      "Enter (Rock/Paper/Scissors): paper\n"
     ]
    },
    {
     "name": "stdout",
     "output_type": "stream",
     "text": [
      "\n",
      "\n",
      " YOU          COMPUTER\n",
      "paper            rock\n"
     ]
    },
    {
     "name": "stdin",
     "output_type": "stream",
     "text": [
      "Enter (Rock/Paper/Scissors): paper\n"
     ]
    },
    {
     "name": "stdout",
     "output_type": "stream",
     "text": [
      "\n",
      "\n",
      " YOU          COMPUTER\n",
      "paper            rock\n"
     ]
    },
    {
     "name": "stdin",
     "output_type": "stream",
     "text": [
      "Enter (Rock/Paper/Scissors): paper\n"
     ]
    },
    {
     "name": "stdout",
     "output_type": "stream",
     "text": [
      "\n",
      "\n",
      " YOU          COMPUTER\n",
      "paper           paper\n"
     ]
    },
    {
     "name": "stdin",
     "output_type": "stream",
     "text": [
      "Enter (Rock/Paper/Scissors): paper\n"
     ]
    },
    {
     "name": "stdout",
     "output_type": "stream",
     "text": [
      "\n",
      "\n",
      " YOU          COMPUTER\n",
      "paper           paper\n"
     ]
    },
    {
     "name": "stdin",
     "output_type": "stream",
     "text": [
      "Enter (Rock/Paper/Scissors): paper\n"
     ]
    },
    {
     "name": "stdout",
     "output_type": "stream",
     "text": [
      "\n",
      "\n",
      " YOU          COMPUTER\n",
      "paper            rock\n"
     ]
    },
    {
     "name": "stdin",
     "output_type": "stream",
     "text": [
      "Enter (Rock/Paper/Scissors): paper\n"
     ]
    },
    {
     "name": "stdout",
     "output_type": "stream",
     "text": [
      "\n",
      "\n",
      " YOU          COMPUTER\n",
      "paper            rock\n",
      "Both pts are = 5 0\n",
      "YOU WON!!!!\n"
     ]
    }
   ],
   "source": [
    "import random as r\n",
    "\n",
    "pcpts=0\n",
    "mypts=0\n",
    "\n",
    "\n",
    "while mypts+pcpts!=5:\n",
    "\n",
    "    a1=input('Enter (Rock/Paper/Scissors):')\n",
    "    a=[]\n",
    "    m1=['rock','paper','scissors']\n",
    "    k=r.randint(0,2)\n",
    "    b=m1[k]\n",
    "    # if ((a1=='Rock' or a1=='rock')and b=='Rock'):\n",
    "        # print('Tie')\n",
    "\n",
    "\n",
    "\n",
    "    print('\\n\\n','YOU'.ljust(10),'COMPUTER'.rjust(10))\n",
    "    print(a1.ljust(10),b.rjust(10))\n",
    "\n",
    "\n",
    "    if (a1.lower()==b.lower()):\n",
    "        mypts=mypts+0\n",
    "        pcpts=pcpts+0\n",
    "        # print('Tie') \n",
    "    elif(a1.lower()==m1[0] and b.lower()==m1[1]):\n",
    "        pcpts+=1\n",
    "        # print('paper eats rock!! you LOST')\n",
    "    elif(a1.lower()==m1[1] and b.lower()==m1[2]):\n",
    "        pcpts+=1\n",
    "        # print('scissors cuts paper!! you LOST')\n",
    "    elif(a1.lower()==m1[2] and b.lower()==m1[0]):\n",
    "        pcpts+=1\n",
    "        # print('rock breaks scissors!! you LOST')\n",
    "\n",
    "    elif(b.lower()==m1[0] and a1.lower()==m1[1]):\n",
    "        mypts+=1\n",
    "        # print('paper eats rock!! you WON')\n",
    "    elif(b.lower()==m1[1] and a1.lower()==m1[2]):\n",
    "        mypts+=1\n",
    "        # print('scissors cuts paper!! you WON')\n",
    "    elif(b.lower()==m1[2] and a1.lower()==m1[0]):\n",
    "        mypts+=1\n",
    "    # print('rock breaks scissors!! you WON')\n",
    "\n",
    "    \n",
    "print('Both pts are =',mypts,pcpts)\n",
    "if mypts>pcpts:\n",
    "    print(\"YOU WON!!!!\")\n",
    "else:\n",
    "    print(\"YOU LOST!!!\")"
   ]
  },
  {
   "cell_type": "code",
   "execution_count": null,
   "id": "16613dad-d500-4a74-b91b-f6625f94aa9b",
   "metadata": {},
   "outputs": [],
   "source": []
  },
  {
   "cell_type": "code",
   "execution_count": null,
   "id": "b30926ec-18c3-427e-877a-aa7fb1603e40",
   "metadata": {},
   "outputs": [],
   "source": []
  },
  {
   "cell_type": "code",
   "execution_count": null,
   "id": "ae64e481-ad5e-4496-a5b5-355390c919ac",
   "metadata": {},
   "outputs": [],
   "source": []
  },
  {
   "cell_type": "code",
   "execution_count": null,
   "id": "50b2c870-3c91-407c-b46f-042525919df3",
   "metadata": {},
   "outputs": [],
   "source": []
  },
  {
   "cell_type": "code",
   "execution_count": null,
   "id": "6dd2bea7-b248-414d-b860-75ea680381da",
   "metadata": {},
   "outputs": [],
   "source": []
  },
  {
   "cell_type": "code",
   "execution_count": null,
   "id": "a2c6f8d3-685a-4dca-9fbb-dc155ab0fb91",
   "metadata": {},
   "outputs": [],
   "source": []
  },
  {
   "cell_type": "code",
   "execution_count": 1,
   "id": "f938de83-0497-4cee-8f26-16b9e0d92862",
   "metadata": {},
   "outputs": [
    {
     "name": "stdout",
     "output_type": "stream",
     "text": [
      "A\n",
      "B\n",
      "C\n",
      "D\n",
      "E\n",
      "F\n",
      "G\n",
      "H\n",
      "I\n",
      "J\n",
      "K\n",
      "L\n",
      "M\n",
      "N\n",
      "O\n",
      "P\n",
      "Q\n",
      "R\n",
      "S\n",
      "T\n",
      "U\n",
      "V\n",
      "W\n",
      "X\n",
      "Y\n",
      "Z\n"
     ]
    }
   ],
   "source": [
    "for i in range(26):\n",
    "    print(chr(i+65))"
   ]
  },
  {
   "cell_type": "code",
   "execution_count": null,
   "id": "ededfa1e-fbc0-4d6c-82d7-e4db8ec3b734",
   "metadata": {},
   "outputs": [],
   "source": []
  }
 ],
 "metadata": {
  "kernelspec": {
   "display_name": "Python 3 (ipykernel)",
   "language": "python",
   "name": "python3"
  },
  "language_info": {
   "codemirror_mode": {
    "name": "ipython",
    "version": 3
   },
   "file_extension": ".py",
   "mimetype": "text/x-python",
   "name": "python",
   "nbconvert_exporter": "python",
   "pygments_lexer": "ipython3",
   "version": "3.9.5"
  }
 },
 "nbformat": 4,
 "nbformat_minor": 5
}
